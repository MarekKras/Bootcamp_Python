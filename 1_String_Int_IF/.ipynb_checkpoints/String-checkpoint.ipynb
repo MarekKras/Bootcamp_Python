{
 "cells": [
  {
   "cell_type": "code",
   "execution_count": 2,
   "id": "d14b2890",
   "metadata": {},
   "outputs": [
    {
     "name": "stdout",
     "output_type": "stream",
     "text": [
      "Day 1 - Python Print Function\n",
      "The function is declared like this:\n",
      "print('what to print')\n"
     ]
    }
   ],
   "source": [
    "print(\"Day 1 - Python Print Function\")\n",
    "print(\"The function is declared like this:\")\n",
    "print(\"print('what to print')\")"
   ]
  },
  {
   "cell_type": "code",
   "execution_count": 19,
   "id": "4be74d81",
   "metadata": {},
   "outputs": [
    {
     "name": "stdout",
     "output_type": "stream",
     "text": [
      "Day 1 - String Manipulation\n",
      "String Concatenation is done with the  sign.\n",
      "e.g. print(\"Hello \"  + world\")\n",
      "New lines can be created with a backslash and n.\n"
     ]
    }
   ],
   "source": [
    "print(\"Day 1 - String Manipulation\")\n",
    "print(\"String Concatenation is done with the \"+\" sign.\")\n",
    "print('e.g. print(\"Hello \"  + world\")')\n",
    "print('New lines can be created with a backslash and n.')\n"
   ]
  },
  {
   "cell_type": "code",
   "execution_count": 23,
   "id": "91da13f4",
   "metadata": {},
   "outputs": [
    {
     "name": "stdout",
     "output_type": "stream",
     "text": [
      "What is your name? Adam\n",
      "4\n"
     ]
    }
   ],
   "source": [
    "print( len( input(\"What is your name? \") ) )\n"
   ]
  },
  {
   "cell_type": "code",
   "execution_count": 24,
   "id": "a52556e9",
   "metadata": {},
   "outputs": [
    {
     "name": "stdout",
     "output_type": "stream",
     "text": [
      "What is you fucking nameaDAs\n",
      "4\n"
     ]
    }
   ],
   "source": [
    "print( len( input(\"What is you fucking name\")))"
   ]
  },
  {
   "cell_type": "code",
   "execution_count": 37,
   "id": "7156ab5f",
   "metadata": {},
   "outputs": [
    {
     "name": "stdout",
     "output_type": "stream",
     "text": [
      "a: 5\n",
      "b: 4\n",
      "a:4\n",
      "b:5\n"
     ]
    }
   ],
   "source": [
    "a = input(\"a: \")\n",
    "b = input(\"b: \")\n",
    "\n",
    "c = a \n",
    "a = b\n",
    "b = c\n",
    "\n",
    "print('a:' +a)\n",
    "print('b:' +b)\n"
   ]
  },
  {
   "cell_type": "code",
   "execution_count": 38,
   "id": "a96cd2fe",
   "metadata": {},
   "outputs": [
    {
     "name": "stdout",
     "output_type": "stream",
     "text": [
      "Hello world! \n",
      "Hello world!\n"
     ]
    }
   ],
   "source": [
    "#osobna linia\n",
    "print(\"Hello world! \\nHello world!\")"
   ]
  },
  {
   "cell_type": "code",
   "execution_count": 39,
   "id": "e8c8f3e7",
   "metadata": {},
   "outputs": [
    {
     "name": "stdout",
     "output_type": "stream",
     "text": [
      "Hello Angela\n"
     ]
    }
   ],
   "source": [
    "print(\"Hello\" + \" \" + \"Angela\")"
   ]
  },
  {
   "cell_type": "code",
   "execution_count": 41,
   "id": "fb6e9115",
   "metadata": {},
   "outputs": [
    {
     "name": "stdout",
     "output_type": "stream",
     "text": [
      "What is your name?Adam\n",
      "Hello Adam\n"
     ]
    }
   ],
   "source": [
    "print (\"Hello \" + input(\"What is your name?\"))"
   ]
  },
  {
   "cell_type": "code",
   "execution_count": 44,
   "id": "84e66f6b",
   "metadata": {},
   "outputs": [
    {
     "name": "stdout",
     "output_type": "stream",
     "text": [
      "What is your name Maro\n"
     ]
    }
   ],
   "source": [
    "user_name = input(\"What is your name \" )\n"
   ]
  },
  {
   "cell_type": "code",
   "execution_count": 53,
   "id": "97824d67",
   "metadata": {},
   "outputs": [
    {
     "name": "stdout",
     "output_type": "stream",
     "text": [
      "Welcome to the Band Name Generator.\n",
      "What s name of the city you grew up in\n",
      "Jolo\n",
      "What's your pet's name?\n",
      "Jolo\n",
      "Your band name could be Jolo Jolo\n"
     ]
    }
   ],
   "source": [
    "print(\"Welcome to the Band Name Generator.\")\n",
    "a = input(\"What s name of the city you grew up in\\n\")\n",
    "pet = input(\"What's your pet's name?\\n\")\n",
    "print(\"Your band name could be \" + a + \" \" + pet)"
   ]
  },
  {
   "cell_type": "code",
   "execution_count": null,
   "id": "78424644",
   "metadata": {},
   "outputs": [],
   "source": []
  }
 ],
 "metadata": {
  "kernelspec": {
   "display_name": "Python 3",
   "language": "python",
   "name": "python3"
  },
  "language_info": {
   "codemirror_mode": {
    "name": "ipython",
    "version": 3
   },
   "file_extension": ".py",
   "mimetype": "text/x-python",
   "name": "python",
   "nbconvert_exporter": "python",
   "pygments_lexer": "ipython3",
   "version": "3.8.8"
  }
 },
 "nbformat": 4,
 "nbformat_minor": 5
}
