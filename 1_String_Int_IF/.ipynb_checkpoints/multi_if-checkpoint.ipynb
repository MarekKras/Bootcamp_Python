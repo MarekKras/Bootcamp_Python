{
 "cells": [
  {
   "cell_type": "code",
   "execution_count": 3,
   "id": "26859ae6",
   "metadata": {},
   "outputs": [
    {
     "name": "stdout",
     "output_type": "stream",
     "text": [
      "Welcome to the rollercoaster!\n",
      "what is your height in cm 123\n",
      "You can ride the rollercoaster!\n",
      "What is your age? 34\n",
      "Adult tickets are $12$.\n",
      "Do you want a photo taken? Y or N.Y\n",
      "Your final bill is 15$\n"
     ]
    }
   ],
   "source": [
    "print(\"Welcome to the rollercoaster!\")\n",
    "height = int(input(\"what is your height in cm \"))\n",
    "\n",
    "bill = 0 \n",
    "\n",
    "if height >= 120:\n",
    "    print(\"You can ride the rollercoaster!\")\n",
    "    age = int(input(\"What is your age? \"))\n",
    "    if age <12:\n",
    "        bill = 5 \n",
    "        print(\"Child tickets are $5.\")\n",
    "    elif age <=18:\n",
    "        bill = 7\n",
    "        print(\"Youth tickets are 7$. \")\n",
    "    else:\n",
    "        bill = 12\n",
    "        print(\"Adult tickets are $12$.\")\n",
    "    wants_photo = input(\"Do you want a photo taken? Y or N.\")\n",
    "    if wants_photo ==\"Y\":\n",
    "        bill = bill +3 \n",
    "    print(f\"Your final bill is {bill}$\")\n",
    "else:\n",
    "    print(\"Sorry, you have to grow taller before you can ride\")"
   ]
  },
  {
   "cell_type": "code",
   "execution_count": null,
   "id": "0dcdeb7a",
   "metadata": {},
   "outputs": [],
   "source": []
  }
 ],
 "metadata": {
  "kernelspec": {
   "display_name": "Python 3",
   "language": "python",
   "name": "python3"
  },
  "language_info": {
   "codemirror_mode": {
    "name": "ipython",
    "version": 3
   },
   "file_extension": ".py",
   "mimetype": "text/x-python",
   "name": "python",
   "nbconvert_exporter": "python",
   "pygments_lexer": "ipython3",
   "version": "3.8.8"
  }
 },
 "nbformat": 4,
 "nbformat_minor": 5
}
