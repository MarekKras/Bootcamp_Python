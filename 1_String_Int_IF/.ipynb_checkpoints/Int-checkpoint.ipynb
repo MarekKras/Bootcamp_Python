{
 "cells": [
  {
   "cell_type": "code",
   "execution_count": 5,
   "id": "72c81a2c",
   "metadata": {},
   "outputs": [
    {
     "name": "stdout",
     "output_type": "stream",
     "text": [
      "what is your name?Maro\n",
      "<class 'int'>\n",
      "<class 'str'>\n"
     ]
    }
   ],
   "source": [
    "num_char = len(input(\"what is your name?\"))\n",
    "\n",
    "# zmiana na stringa\n",
    "new_num_char = str(num_char)\n",
    "\n",
    "print(type(num_char))\n",
    "print(type(new_num_char))\n"
   ]
  },
  {
   "cell_type": "code",
   "execution_count": 6,
   "id": "4ee7c42a",
   "metadata": {},
   "outputs": [
    {
     "name": "stdout",
     "output_type": "stream",
     "text": [
      "<class 'float'>\n"
     ]
    }
   ],
   "source": [
    "a = float(123)\n",
    "print(type(a))"
   ]
  },
  {
   "cell_type": "code",
   "execution_count": 7,
   "id": "0a548a15",
   "metadata": {},
   "outputs": [
    {
     "name": "stdout",
     "output_type": "stream",
     "text": [
      "170.5\n"
     ]
    }
   ],
   "source": [
    "print (70 + float (\"100.5\"))"
   ]
  },
  {
   "cell_type": "code",
   "execution_count": 17,
   "id": "f971d08d",
   "metadata": {},
   "outputs": [
    {
     "name": "stdout",
     "output_type": "stream",
     "text": [
      "Type a two digit number: 34\n",
      "7\n"
     ]
    }
   ],
   "source": [
    "two_digit_number = input(\"Type a two digit number: \")\n",
    "first_digit = int(two_digit_number[0])\n",
    "second_digit = int(two_digit_number[1])\n",
    "\n",
    "two_digit_number = first_digit + second_digit\n",
    "\n",
    "print(two_digit_number)\n"
   ]
  },
  {
   "cell_type": "code",
   "execution_count": 31,
   "id": "be396fba",
   "metadata": {},
   "outputs": [
    {
     "name": "stdout",
     "output_type": "stream",
     "text": [
      "enter your height in m: 1.82\n",
      "enter your weight in kg: 86\n",
      "25\n"
     ]
    }
   ],
   "source": [
    "height = input(\"enter your height in m: \")\n",
    "weight = input(\"enter your weight in kg: \")\n",
    "# potęga\n",
    "bmi = int(weight) / float(height) ** 2\n",
    "bmi_as_int = int(bmi)\n",
    "print(bmi_as_int)\n"
   ]
  },
  {
   "cell_type": "code",
   "execution_count": 36,
   "id": "14a21828",
   "metadata": {},
   "outputs": [
    {
     "name": "stdout",
     "output_type": "stream",
     "text": [
      "2.6666666666666665\n",
      "3\n",
      "2.667\n",
      "2\n",
      "<class 'int'>\n"
     ]
    }
   ],
   "source": [
    "print((8/3))\n",
    "# zaokrąglenie i do ilu licz chcesz zaokraglić\n",
    "print(round(8/3))\n",
    "print(round(8/3,3))\n",
    "# bo 2 razy się mieści\n",
    "print(8//3)\n",
    "print(type(8//3))"
   ]
  },
  {
   "cell_type": "code",
   "execution_count": 37,
   "id": "dc0c8ff9",
   "metadata": {},
   "outputs": [
    {
     "name": "stdout",
     "output_type": "stream",
     "text": [
      "1.0\n"
     ]
    }
   ],
   "source": [
    "result = 4/2\n",
    "result /=2\n",
    "print(result)\n",
    "# 1 dzielenie równa się 2 i następne dziele równa sie 1"
   ]
  },
  {
   "cell_type": "code",
   "execution_count": null,
   "id": "fe7c1342",
   "metadata": {},
   "outputs": [],
   "source": []
  }
 ],
 "metadata": {
  "kernelspec": {
   "display_name": "Python 3",
   "language": "python",
   "name": "python3"
  },
  "language_info": {
   "codemirror_mode": {
    "name": "ipython",
    "version": 3
   },
   "file_extension": ".py",
   "mimetype": "text/x-python",
   "name": "python",
   "nbconvert_exporter": "python",
   "pygments_lexer": "ipython3",
   "version": "3.8.8"
  }
 },
 "nbformat": 4,
 "nbformat_minor": 5
}
