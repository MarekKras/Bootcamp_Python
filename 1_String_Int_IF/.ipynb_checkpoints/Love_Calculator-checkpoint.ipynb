{
 "cells": [
  {
   "cell_type": "code",
   "execution_count": 1,
   "id": "2d1f3c44",
   "metadata": {},
   "outputs": [
    {
     "name": "stdout",
     "output_type": "stream",
     "text": [
      "Welcome to the love Calculator!\n",
      "What is your name? \n",
      "Marek Kras\n",
      "What is their name? \n",
      "Alicja Komal\n",
      "34\n"
     ]
    }
   ],
   "source": [
    "print(\"Welcome to the love Calculator!\")\n",
    "name1 = input(\"What is your name? \\n\")\n",
    "name2 = input(\"What is their name? \\n\")\n",
    "\n",
    "combined_string = name1 + name2\n",
    "lower_case_string = combined_string.lower()\n",
    "\n",
    "t = lower_case_string.count(\"t\")\n",
    "r = lower_case_string.count(\"r\")\n",
    "u = lower_case_string.count(\"u\")\n",
    "e = lower_case_string.count(\"e\")\n",
    "\n",
    "true = t + r + u + e\n",
    "\n",
    "l = lower_case_string.count(\"l\")\n",
    "o = lower_case_string.count(\"o\")\n",
    "v = lower_case_string.count(\"v\")\n",
    "e = lower_case_string.count(\"e\")\n",
    "\n",
    "love = l + o + v + e\n",
    "\n",
    "love_score =  str(true) + str(love)\n",
    "\n",
    "if (love_score < 10) or (love_score > 90):\n",
    "    print(f'Your love score is {love_score}, you go togehter like coke and mentos.\" )\n",
    "elif (love_score >= 40) and (love_score <= 50):\n",
    "    print(f'Your love score is {love_score}, you are alright together.\" )\n",
    "          \n",
    "\n",
    "\n",
    "print(love_score)\n",
    "\n",
    "\n"
   ]
  },
  {
   "cell_type": "code",
   "execution_count": null,
   "id": "490fe802",
   "metadata": {},
   "outputs": [],
   "source": []
  }
 ],
 "metadata": {
  "kernelspec": {
   "display_name": "Python 3",
   "language": "python",
   "name": "python3"
  },
  "language_info": {
   "codemirror_mode": {
    "name": "ipython",
    "version": 3
   },
   "file_extension": ".py",
   "mimetype": "text/x-python",
   "name": "python",
   "nbconvert_exporter": "python",
   "pygments_lexer": "ipython3",
   "version": "3.8.8"
  }
 },
 "nbformat": 4,
 "nbformat_minor": 5
}
