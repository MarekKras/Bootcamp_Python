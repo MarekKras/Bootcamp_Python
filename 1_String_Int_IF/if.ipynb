{
 "cells": [
  {
   "cell_type": "code",
   "execution_count": 1,
   "id": "a2f2d2f8",
   "metadata": {},
   "outputs": [
    {
     "name": "stdout",
     "output_type": "stream",
     "text": [
      "Welcome to the rollercoaster!\n",
      "what is your height in cm111\n",
      "Sorry, you have to grow taller before you can ride\n"
     ]
    }
   ],
   "source": [
    "print(\"Welcome to the rollercoaster!\")\n",
    "height = int(input(\"what is your height in cm\"))\n",
    "\n",
    "if height >= 120:\n",
    "    print(\"You can ride the rollercoaster!\")\n",
    "else:\n",
    "    print(\"Sorry, you have to grow taller before you can ride\")\n"
   ]
  },
  {
   "cell_type": "code",
   "execution_count": 29,
   "id": "ae956e7f",
   "metadata": {},
   "outputs": [
    {
     "name": "stdout",
     "output_type": "stream",
     "text": [
      "Which number you want to check5\n",
      "This is an odd number.\n"
     ]
    }
   ],
   "source": [
    "number = int(input(\"Which number you want to check\"))            \n",
    "\n",
    "if number % 2 == 0:\n",
    "  print(\"This is an even number.\")\n",
    "else:\n",
    "  print(\"This is an odd number.\")\n",
    "             "
   ]
  },
  {
   "cell_type": "code",
   "execution_count": 22,
   "id": "be7a35c5",
   "metadata": {},
   "outputs": [
    {
     "name": "stdout",
     "output_type": "stream",
     "text": [
      "Which number do you want to check? 5\n",
      "This is an odd number.\n"
     ]
    }
   ],
   "source": [
    "# 🚨 Don't change the code below 👇\n",
    "number = int(input(\"Which number do you want to check? \"))\n",
    "# 🚨 Don't change the code above 👆\n",
    "\n",
    "#If the number can be divided by 2 with 0 remainder.\n",
    "if number % 2 == 0:\n",
    "  print(\"This is an even number.\")\n",
    "#Otherwise (number cannot be divided by 2 with 0 remainder).\n",
    "else:\n",
    "  print(\"This is an odd number.\")"
   ]
  },
  {
   "cell_type": "code",
   "execution_count": 18,
   "id": "de5dbeef",
   "metadata": {},
   "outputs": [
    {
     "data": {
      "text/plain": [
       "0"
      ]
     },
     "execution_count": 18,
     "metadata": {},
     "output_type": "execute_result"
    }
   ],
   "source": [
    "4%2"
   ]
  },
  {
   "cell_type": "code",
   "execution_count": 33,
   "id": "7ea3fcf1",
   "metadata": {},
   "outputs": [
    {
     "name": "stdout",
     "output_type": "stream",
     "text": [
      "Welcome to the rollercoaster!\n",
      "what is your height in cm 145\n",
      "You can ride the rollercoaster!\n",
      "What is your age? 15\n",
      "Please pay 7$. \n"
     ]
    }
   ],
   "source": [
    "print(\"Welcome to the rollercoaster!\")\n",
    "height = int(input(\"what is your height in cm \"))\n",
    "\n",
    "if height >= 120:\n",
    "    print(\"You can ride the rollercoaster!\")\n",
    "    age = int(input(\"What is your age? \"))\n",
    "    if age <12:\n",
    "        print(\"Please pay $5.\")\n",
    "    elif age <=18:\n",
    "        print(\"Please pay 7$. \")\n",
    "    else:\n",
    "        print(\"Please pay $12$.\")\n",
    "else:\n",
    "    print(\"Sorry, you have to grow taller before you can ride\")"
   ]
  },
  {
   "cell_type": "code",
   "execution_count": 38,
   "id": "c338882c",
   "metadata": {},
   "outputs": [
    {
     "name": "stdout",
     "output_type": "stream",
     "text": [
      "enter your height in m: 1.7\n",
      "enter your weight in kg: 79\n",
      "27\n",
      "You are overweight\n"
     ]
    }
   ],
   "source": [
    "height = input(\"enter your height in m: \")\n",
    "weight = input(\"enter your weight in kg: \")\n",
    "# potęga\n",
    "bmi = int(weight) / float(height) ** 2\n",
    "bmi_as_int = int(bmi)\n",
    "print(bmi_as_int)\n",
    "\n",
    "if bmi_as_int < 18.5:\n",
    "    print(\"You are underweight\")\n",
    "elif bmi_as_int < 25:\n",
    "    print(\"You are normal weight\")\n",
    "elif bmi_as_int < 30:\n",
    "    print(\"You are overweight\")\n",
    "elif bmi_as_int < 35:\n",
    "    print(\"You are obese\")\n",
    "else:\n",
    "    print(\"You are clinically obese\")"
   ]
  },
  {
   "cell_type": "code",
   "execution_count": 54,
   "id": "a98f85d2",
   "metadata": {},
   "outputs": [
    {
     "name": "stdout",
     "output_type": "stream",
     "text": [
      "enter your height in m: 1.3\n",
      "enter your weight in kg: 45\n",
      "Your bmi is 26.63, you are  overweight\n"
     ]
    }
   ],
   "source": [
    "height = float(input(\"enter your height in m: \"))\n",
    "weight = int(input(\"enter your weight in kg: \"))\n",
    "# potęga\n",
    "bmi = round(weight / height ** 2,2)\n",
    "\n",
    "if bmi < 18.5:\n",
    "    print(f\"Your bmi is {bmi}, you are underweight\")\n",
    "elif bmi <25:\n",
    "    print(f\"Your bmi is {bmi}, you are normal weight\")\n",
    "elif bmi <30:\n",
    "    print(f\"Your bmi is {bmi}, you are  overweight\")\n",
    "elif bmi <35:\n",
    "    print(f\"Your bmi is {bmi}, you are obese\")\n",
    "else :\n",
    "    print(f\"Your bmi is {bmi}, you are clinically obese\")\n"
   ]
  },
  {
   "cell_type": "code",
   "execution_count": 56,
   "id": "71ea0825",
   "metadata": {},
   "outputs": [
    {
     "name": "stdout",
     "output_type": "stream",
     "text": [
      "Write a year in number: 2014\n",
      "Is not leap year\n"
     ]
    }
   ],
   "source": [
    "year = int(input(\"Write a year in number: \"))\n",
    "# przechodzisz z kolejnego poziomu na kolejny cały czas pamietamy o opcjach else \n",
    "\n",
    "if year % 4 == 0:\n",
    "    if year % 100 ==0:\n",
    "        if year % 400 ==0:\n",
    "            print(\"Leap year!\")\n",
    "        else:\n",
    "            print(\"Is not a leap year\")\n",
    "    else:\n",
    "        print(\"Leap year!\")\n",
    "        \n",
    "else:\n",
    "    print(\"Is not leap year\")"
   ]
  },
  {
   "cell_type": "code",
   "execution_count": null,
   "id": "7b90b3f0",
   "metadata": {},
   "outputs": [],
   "source": []
  }
 ],
 "metadata": {
  "kernelspec": {
   "display_name": "Python 3",
   "language": "python",
   "name": "python3"
  },
  "language_info": {
   "codemirror_mode": {
    "name": "ipython",
    "version": 3
   },
   "file_extension": ".py",
   "mimetype": "text/x-python",
   "name": "python",
   "nbconvert_exporter": "python",
   "pygments_lexer": "ipython3",
   "version": "3.8.8"
  }
 },
 "nbformat": 4,
 "nbformat_minor": 5
}
