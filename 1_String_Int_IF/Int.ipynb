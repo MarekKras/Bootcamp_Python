{
 "cells": [
  {
   "cell_type": "code",
   "execution_count": 5,
   "id": "e06b3ef3",
   "metadata": {},
   "outputs": [
    {
     "name": "stdout",
     "output_type": "stream",
     "text": [
      "what is your name?Maro\n",
      "<class 'int'>\n",
      "<class 'str'>\n"
     ]
    }
   ],
   "source": [
    "num_char = len(input(\"what is your name?\"))\n",
    "\n",
    "# zmiana na stringa\n",
    "new_num_char = str(num_char)\n",
    "\n",
    "print(type(num_char))\n",
    "print(type(new_num_char))\n"
   ]
  },
  {
   "cell_type": "code",
   "execution_count": 6,
   "id": "bda10784",
   "metadata": {},
   "outputs": [
    {
     "name": "stdout",
     "output_type": "stream",
     "text": [
      "<class 'float'>\n"
     ]
    }
   ],
   "source": [
    "a = float(123)\n",
    "print(type(a))"
   ]
  },
  {
   "cell_type": "code",
   "execution_count": 7,
   "id": "ae5a920a",
   "metadata": {},
   "outputs": [
    {
     "name": "stdout",
     "output_type": "stream",
     "text": [
      "170.5\n"
     ]
    }
   ],
   "source": [
    "print (70 + float (\"100.5\"))"
   ]
  },
  {
   "cell_type": "code",
   "execution_count": 17,
   "id": "db618c3a",
   "metadata": {},
   "outputs": [
    {
     "name": "stdout",
     "output_type": "stream",
     "text": [
      "Type a two digit number: 34\n",
      "7\n"
     ]
    }
   ],
   "source": [
    "two_digit_number = input(\"Type a two digit number: \")\n",
    "first_digit = int(two_digit_number[0])\n",
    "second_digit = int(two_digit_number[1])\n",
    "\n",
    "two_digit_number = first_digit + second_digit\n",
    "\n",
    "print(two_digit_number)\n"
   ]
  },
  {
   "cell_type": "code",
   "execution_count": 31,
   "id": "32f8fda9",
   "metadata": {},
   "outputs": [
    {
     "name": "stdout",
     "output_type": "stream",
     "text": [
      "enter your height in m: 1.82\n",
      "enter your weight in kg: 86\n",
      "25\n"
     ]
    }
   ],
   "source": [
    "height = input(\"enter your height in m: \")\n",
    "weight = input(\"enter your weight in kg: \")\n",
    "# potęga\n",
    "bmi = int(weight) / float(height) ** 2\n",
    "bmi_as_int = int(bmi)\n",
    "print(bmi_as_int)\n"
   ]
  },
  {
   "cell_type": "code",
   "execution_count": 36,
   "id": "8f1c0f9f",
   "metadata": {},
   "outputs": [
    {
     "name": "stdout",
     "output_type": "stream",
     "text": [
      "2.6666666666666665\n",
      "3\n",
      "2.667\n",
      "2\n",
      "<class 'int'>\n"
     ]
    }
   ],
   "source": [
    "print((8/3))\n",
    "# zaokrąglenie i do ilu licz chcesz zaokraglić\n",
    "print(round(8/3))\n",
    "print(round(8/3,3))\n",
    "# bo 2 razy się mieści\n",
    "print(8//3)\n",
    "print(type(8//3))"
   ]
  },
  {
   "cell_type": "code",
   "execution_count": 37,
   "id": "bea2879a",
   "metadata": {},
   "outputs": [
    {
     "name": "stdout",
     "output_type": "stream",
     "text": [
      "1.0\n"
     ]
    }
   ],
   "source": [
    "result = 4/2\n",
    "# krótsza wersja\n",
    "result /=2\n",
    "print(result)\n",
    "# 1 dzielenie równa się 2 i następne dziele równa sie 1"
   ]
  },
  {
   "cell_type": "code",
   "execution_count": 39,
   "id": "de86375d",
   "metadata": {},
   "outputs": [
    {
     "name": "stdout",
     "output_type": "stream",
     "text": [
      "1\n"
     ]
    }
   ],
   "source": [
    "score = 0\n",
    "score +=1\n",
    "#score -=1\n",
    "print(score)"
   ]
  },
  {
   "cell_type": "code",
   "execution_count": 41,
   "id": "1a355940",
   "metadata": {},
   "outputs": [
    {
     "name": "stdout",
     "output_type": "stream",
     "text": [
      "Your score is 0\n"
     ]
    }
   ],
   "source": [
    "score = 0\n",
    "print(\"Your score is \" + str(score))"
   ]
  },
  {
   "cell_type": "code",
   "execution_count": 43,
   "id": "992c1f8c",
   "metadata": {},
   "outputs": [
    {
     "name": "stdout",
     "output_type": "stream",
     "text": [
      "your score is 0  your height is 1.8 , you are winning is True \n"
     ]
    }
   ],
   "source": [
    "score = 0\n",
    "height = 1.8\n",
    "isWinning = True\n",
    "#f-String łatwiejsze połączenie różnych typów dannych\n",
    "\n",
    "print(f\"your score is {score}  your height is {height} , you are winning is {isWinning} \")"
   ]
  },
  {
   "cell_type": "code",
   "execution_count": 54,
   "id": "504ceb30",
   "metadata": {},
   "outputs": [
    {
     "name": "stdout",
     "output_type": "stream",
     "text": [
      "What is your current age? 89\n",
      "You have 12410365 days, 52 weeks and 12 months left. \n"
     ]
    }
   ],
   "source": [
    "age = input(\"What is your current age? \")\n",
    "\n",
    "final_age = 90\n",
    "\n",
    "answer_age = final_age - int(age)\n",
    "\n",
    "days = answer_age * 365\n",
    "weeks = answer_age * 52\n",
    "months = answer_age * 12\n",
    "\n",
    "\n",
    "print(f\"You have 12410{days} days, {weeks} weeks and {months} months left. \")\n",
    "\n",
    "\n",
    "#year = 365 days\n",
    "#year = 52 weeks\n",
    "#months = 12 months\n"
   ]
  },
  {
   "cell_type": "code",
   "execution_count": 55,
   "id": "d334bbc8",
   "metadata": {},
   "outputs": [
    {
     "name": "stdout",
     "output_type": "stream",
     "text": [
      "What is your current age? 89\n",
      "You have 124101 days, 52 weeks and 12 months left. \n"
     ]
    }
   ],
   "source": [
    "age = input(\"What is your current age? \")\n",
    "\n",
    "age_as_int = int(age)\n",
    "\n",
    "\n",
    "years_remainig = 90 - age_as_int\n",
    "days_remaining = years_remainig * 365\n",
    "weeks_remaining = years_remainig * 52\n",
    "months_remaining = years_remainig * 12\n",
    "\n",
    "message = f\"You have 12410{years_remainig} days, {weeks_remaining} weeks and {months_remaining} months left. \"\n",
    "print(message)"
   ]
  },
  {
   "cell_type": "code",
   "execution_count": 64,
   "id": "98a4c18e",
   "metadata": {},
   "outputs": [
    {
     "name": "stdout",
     "output_type": "stream",
     "text": [
      "Welcome to the tip calculator\n",
      "What was the total bill 34.45\n",
      "what percentage tip would you like to give? 10, 12 or 15? 10\n",
      "How many people to split the bill?4\n",
      "Each person should pay:9.474$\n"
     ]
    }
   ],
   "source": [
    "print(\"Welcome to the tip calculator\")\n",
    "total_bill = input(\"What was the total bill \")\n",
    "total_bill_as_float = float(total_bill)\n",
    "tip = input(\"what percentage tip would you like to give? 10, 12 or 15? \")\n",
    "tip_as_int = int(tip)\n",
    "tip_sum = (total_bill_as_float * tip_as_int/100) + total_bill_as_float\n",
    "people = input(\"How many people to split the bill?\")\n",
    "people_as_int = int(people)\n",
    "counting = round(tip_sum / people_as_int,3)\n",
    "print(f\"Each person should pay:{counting}$\")"
   ]
  },
  {
   "cell_type": "code",
   "execution_count": 75,
   "id": "c150ad81",
   "metadata": {},
   "outputs": [
    {
     "name": "stdout",
     "output_type": "stream",
     "text": [
      "Welcome to the tip calculator!\n",
      "What was the total bill? $123.45\n",
      "How much tip would you like to give? 10, 12, or 15? 12\n",
      "How many people to split the bill?8\n",
      "Each person should pay:$17.28 \n"
     ]
    }
   ],
   "source": [
    "print(\"Welcome to the tip calculator!\")\n",
    "bill = float(input(\"What was the total bill? $\"))\n",
    "tip = int(input(\"How much tip would you like to give? 10, 12, or 15? \"))\n",
    "people = int(input(\"How many people to split the bill?\"))\n",
    "tip_as_percent = tip / 100\n",
    "total_tip_amount = bill * tip_as_percent\n",
    "total_bill = bill + total_tip_amount\n",
    "bill_per_person = total_bill / people\n",
    "final_amount = round(bill_per_person,2)\n",
    "# problem z zaokrągleniem musi skorzystać z innej funkji podpowiedzianej również na stackoverflow\n",
    "final_amount = \"{:.2f}\".format(bill_per_person)\n",
    "print(f\"Each person should pay:${final_amount} \")\n",
    "\n",
    "\n",
    "\n"
   ]
  },
  {
   "cell_type": "code",
   "execution_count": null,
   "id": "d3b07ef2",
   "metadata": {},
   "outputs": [],
   "source": []
  }
 ],
 "metadata": {
  "kernelspec": {
   "display_name": "Python 3",
   "language": "python",
   "name": "python3"
  },
  "language_info": {
   "codemirror_mode": {
    "name": "ipython",
    "version": 3
   },
   "file_extension": ".py",
   "mimetype": "text/x-python",
   "name": "python",
   "nbconvert_exporter": "python",
   "pygments_lexer": "ipython3",
   "version": "3.8.8"
  }
 },
 "nbformat": 4,
 "nbformat_minor": 5
}
