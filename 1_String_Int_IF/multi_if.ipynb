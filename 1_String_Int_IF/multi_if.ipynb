{
 "cells": [
  {
   "cell_type": "code",
   "execution_count": 3,
   "id": "753d4750",
   "metadata": {},
   "outputs": [
    {
     "name": "stdout",
     "output_type": "stream",
     "text": [
      "Welcome to the rollercoaster!\n",
      "what is your height in cm 123\n",
      "You can ride the rollercoaster!\n",
      "What is your age? 34\n",
      "Adult tickets are $12$.\n",
      "Do you want a photo taken? Y or N.Y\n",
      "Your final bill is 15$\n"
     ]
    }
   ],
   "source": [
    "print(\"Welcome to the rollercoaster!\")\n",
    "height = int(input(\"what is your height in cm \"))\n",
    "\n",
    "bill = 0 \n",
    "\n",
    "if height >= 120:\n",
    "    print(\"You can ride the rollercoaster!\")\n",
    "    age = int(input(\"What is your age? \"))\n",
    "    if age <12:\n",
    "        bill = 5 \n",
    "        print(\"Child tickets are $5.\")\n",
    "    elif age <=18:\n",
    "        bill = 7\n",
    "        print(\"Youth tickets are 7$. \")\n",
    "    else:\n",
    "        bill = 12\n",
    "        print(\"Adult tickets are $12$.\")\n",
    "    wants_photo = input(\"Do you want a photo taken? Y or N.\")\n",
    "    if wants_photo ==\"Y\":\n",
    "        bill = bill +3 \n",
    "    print(f\"Your final bill is {bill}$\")\n",
    "else:\n",
    "    print(\"Sorry, you have to grow taller before you can ride\")"
   ]
  },
  {
   "cell_type": "code",
   "execution_count": 27,
   "id": "ed8c5167",
   "metadata": {
    "collapsed": true
   },
   "outputs": [
    {
     "name": "stdout",
     "output_type": "stream",
     "text": [
      "Welcome to Python Pizza Deliveries!\n",
      "What size pizza do you want? S or M or LS\n",
      "<class 'str'>\n",
      "Small pizza cost $15\n",
      "Do you want pepperoni? Y or NY\n",
      "Do you want pepperoni? Y or NY\n",
      "Do you want pepperoni? Y or NY\n"
     ]
    },
    {
     "ename": "KeyboardInterrupt",
     "evalue": "Interrupted by user",
     "output_type": "error",
     "traceback": [
      "\u001b[1;31m---------------------------------------------------------------------------\u001b[0m",
      "\u001b[1;31mKeyboardInterrupt\u001b[0m                         Traceback (most recent call last)",
      "\u001b[1;32m<ipython-input-27-081e4fb6ef27>\u001b[0m in \u001b[0;36m<module>\u001b[1;34m\u001b[0m\n\u001b[0;32m     31\u001b[0m \u001b[1;32mif\u001b[0m \u001b[0madd_pepperoni\u001b[0m \u001b[1;33m==\u001b[0m \u001b[1;34m'Y '\u001b[0m\u001b[1;33m:\u001b[0m\u001b[1;33m\u001b[0m\u001b[1;33m\u001b[0m\u001b[0m\n\u001b[0;32m     32\u001b[0m     \u001b[0mbill\u001b[0m \u001b[1;33m=\u001b[0m \u001b[0mbill\u001b[0m \u001b[1;33m+\u001b[0m \u001b[1;36m3\u001b[0m\u001b[1;33m\u001b[0m\u001b[1;33m\u001b[0m\u001b[0m\n\u001b[1;32m---> 33\u001b[1;33m \u001b[0mextra_chesese\u001b[0m \u001b[1;33m=\u001b[0m \u001b[0minput\u001b[0m\u001b[1;33m(\u001b[0m\u001b[1;34m\"Do you want extra cheese? Y or N\"\u001b[0m \u001b[1;33m)\u001b[0m\u001b[1;33m\u001b[0m\u001b[1;33m\u001b[0m\u001b[0m\n\u001b[0m\u001b[0;32m     34\u001b[0m \u001b[1;32mif\u001b[0m \u001b[0mextra_chesese\u001b[0m \u001b[1;33m==\u001b[0m \u001b[1;34m'Y'\u001b[0m\u001b[1;33m:\u001b[0m\u001b[1;33m\u001b[0m\u001b[1;33m\u001b[0m\u001b[0m\n\u001b[0;32m     35\u001b[0m     \u001b[0mbill\u001b[0m \u001b[1;33m=\u001b[0m \u001b[0mbill\u001b[0m \u001b[1;33m+\u001b[0m \u001b[1;36m1\u001b[0m\u001b[1;33m\u001b[0m\u001b[1;33m\u001b[0m\u001b[0m\n",
      "\u001b[1;32m~\\anaconda3\\lib\\site-packages\\ipykernel\\kernelbase.py\u001b[0m in \u001b[0;36mraw_input\u001b[1;34m(self, prompt)\u001b[0m\n\u001b[0;32m    858\u001b[0m                 \u001b[1;34m\"raw_input was called, but this frontend does not support input requests.\"\u001b[0m\u001b[1;33m\u001b[0m\u001b[1;33m\u001b[0m\u001b[0m\n\u001b[0;32m    859\u001b[0m             )\n\u001b[1;32m--> 860\u001b[1;33m         return self._input_request(str(prompt),\n\u001b[0m\u001b[0;32m    861\u001b[0m             \u001b[0mself\u001b[0m\u001b[1;33m.\u001b[0m\u001b[0m_parent_ident\u001b[0m\u001b[1;33m,\u001b[0m\u001b[1;33m\u001b[0m\u001b[1;33m\u001b[0m\u001b[0m\n\u001b[0;32m    862\u001b[0m             \u001b[0mself\u001b[0m\u001b[1;33m.\u001b[0m\u001b[0m_parent_header\u001b[0m\u001b[1;33m,\u001b[0m\u001b[1;33m\u001b[0m\u001b[1;33m\u001b[0m\u001b[0m\n",
      "\u001b[1;32m~\\anaconda3\\lib\\site-packages\\ipykernel\\kernelbase.py\u001b[0m in \u001b[0;36m_input_request\u001b[1;34m(self, prompt, ident, parent, password)\u001b[0m\n\u001b[0;32m    902\u001b[0m             \u001b[1;32mexcept\u001b[0m \u001b[0mKeyboardInterrupt\u001b[0m\u001b[1;33m:\u001b[0m\u001b[1;33m\u001b[0m\u001b[1;33m\u001b[0m\u001b[0m\n\u001b[0;32m    903\u001b[0m                 \u001b[1;31m# re-raise KeyboardInterrupt, to truncate traceback\u001b[0m\u001b[1;33m\u001b[0m\u001b[1;33m\u001b[0m\u001b[1;33m\u001b[0m\u001b[0m\n\u001b[1;32m--> 904\u001b[1;33m                 \u001b[1;32mraise\u001b[0m \u001b[0mKeyboardInterrupt\u001b[0m\u001b[1;33m(\u001b[0m\u001b[1;34m\"Interrupted by user\"\u001b[0m\u001b[1;33m)\u001b[0m \u001b[1;32mfrom\u001b[0m \u001b[1;32mNone\u001b[0m\u001b[1;33m\u001b[0m\u001b[1;33m\u001b[0m\u001b[0m\n\u001b[0m\u001b[0;32m    905\u001b[0m             \u001b[1;32mexcept\u001b[0m \u001b[0mException\u001b[0m \u001b[1;32mas\u001b[0m \u001b[0me\u001b[0m\u001b[1;33m:\u001b[0m\u001b[1;33m\u001b[0m\u001b[1;33m\u001b[0m\u001b[0m\n\u001b[0;32m    906\u001b[0m                 \u001b[0mself\u001b[0m\u001b[1;33m.\u001b[0m\u001b[0mlog\u001b[0m\u001b[1;33m.\u001b[0m\u001b[0mwarning\u001b[0m\u001b[1;33m(\u001b[0m\u001b[1;34m\"Invalid Message:\"\u001b[0m\u001b[1;33m,\u001b[0m \u001b[0mexc_info\u001b[0m\u001b[1;33m=\u001b[0m\u001b[1;32mTrue\u001b[0m\u001b[1;33m)\u001b[0m\u001b[1;33m\u001b[0m\u001b[1;33m\u001b[0m\u001b[0m\n",
      "\u001b[1;31mKeyboardInterrupt\u001b[0m: Interrupted by user"
     ]
    }
   ],
   "source": [
    "#ordering a pizza \n",
    "#small Pizza: $15\n",
    "#medium Pizza: $20\n",
    "#large Pizza: 25$\n",
    "# Pepperoni for Small Pizza: +$2\n",
    "# Pepperoni for Medium or Large Pizza: +$3\n",
    "# Extra cheese for any size pizza: + $1\n",
    "\n",
    "\n",
    "print(\"Welcome to Python Pizza Deliveries!\")\n",
    "bill = 0\n",
    "size = str(input(\"What size pizza do you want? S or M or L\"))\n",
    "print(type(size))\n",
    "\n",
    "if size == 'S':\n",
    "    bill = 15\n",
    "    print(\"Small pizza cost $15\")\n",
    "add_pepperoni = input(\"Do you want pepperoni? Y or N\" )\n",
    "if add_pepperoni == 'Y ':\n",
    "    bill = bill + 2\n",
    "elif size == 'M':\n",
    "    bill = 20\n",
    "    print(\"Medium pizza cost $20\")\n",
    "add_pepperoni = input(\"Do you want pepperoni? Y or N\" )\n",
    "if add_pepperoni == 'Y ':\n",
    "    bill = bill +3\n",
    "elif size == 'L' :\n",
    "    bill = 25\n",
    "    print(\"Large pizza cost $25\")\n",
    "add_pepperoni = input(\"Do you want pepperoni? Y or N\" )\n",
    "if add_pepperoni == 'Y ':\n",
    "    bill = bill + 3\n",
    "extra_chesese = input(\"Do you want extra cheese? Y or N\" )\n",
    "if extra_chesese == 'Y':\n",
    "    bill = bill + 1\n",
    "    \n",
    "print(f\"Final bill is {bill}$\") \n",
    "\n",
    "\n",
    "\n",
    "#add_pepperoni = input(\"Do you want pepperoni? Y or N\" )\n",
    "#extra_chesese = input(\"Do you want extra cheese? Y or N\" )"
   ]
  },
  {
   "cell_type": "code",
   "execution_count": 28,
   "id": "daf117b8",
   "metadata": {},
   "outputs": [
    {
     "name": "stdout",
     "output_type": "stream",
     "text": [
      "Welcome to Python Pizza Deliveries!\n",
      "What size pizza do you want? S, M or LS\n",
      "Do you want pepperoni? Y or NY\n",
      "Do you want extra cheese? Y or NY\n",
      "Your final bill is $18\n"
     ]
    }
   ],
   "source": [
    "print(\"Welcome to Python Pizza Deliveries!\")\n",
    "size = str(input(\"What size pizza do you want? S, M or L\"))\n",
    "add_pepperoni = input(\"Do you want pepperoni? Y or N\" )\n",
    "extra_chesese = input(\"Do you want extra cheese? Y or N\" )\n",
    "\n",
    "bill = 0\n",
    "\n",
    "if size == \"S\":\n",
    "    bill += 15\n",
    "elif size == \"M\":\n",
    "    bill +=20\n",
    "else:\n",
    "    bill += 25\n",
    "\n",
    "if add_pepperoni == 'Y':\n",
    "    if size == \"S\":\n",
    "        bill +=2\n",
    "    else:\n",
    "        bill +=3\n",
    "\n",
    "if extra_chesese == \"Y\":\n",
    "    bill += 1\n",
    "\n",
    "print(f'Your final bill is ${bill}')\n",
    "    \n",
    "\n",
    "    \n",
    "\n",
    "\n",
    "\n",
    "\n"
   ]
  },
  {
   "cell_type": "code",
   "execution_count": null,
   "id": "52d7835b",
   "metadata": {},
   "outputs": [],
   "source": []
  },
  {
   "cell_type": "code",
   "execution_count": null,
   "id": "f638faa8",
   "metadata": {},
   "outputs": [],
   "source": []
  }
 ],
 "metadata": {
  "kernelspec": {
   "display_name": "Python 3",
   "language": "python",
   "name": "python3"
  },
  "language_info": {
   "codemirror_mode": {
    "name": "ipython",
    "version": 3
   },
   "file_extension": ".py",
   "mimetype": "text/x-python",
   "name": "python",
   "nbconvert_exporter": "python",
   "pygments_lexer": "ipython3",
   "version": "3.8.8"
  }
 },
 "nbformat": 4,
 "nbformat_minor": 5
}
